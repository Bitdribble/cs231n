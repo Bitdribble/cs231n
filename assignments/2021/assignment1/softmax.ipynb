{
  "cells": [
    {
      "cell_type": "markdown",
      "metadata": {
        "id": "view-in-github",
        "colab_type": "text"
      },
      "source": [
        "<a href=\"https://colab.research.google.com/github/Bitdribble/cs231n/blob/master/assignments/2021/assignment1/softmax.ipynb\" target=\"_parent\"><img src=\"https://colab.research.google.com/assets/colab-badge.svg\" alt=\"Open In Colab\"/></a>"
      ]
    },
    {
      "cell_type": "code",
      "execution_count": 1,
      "metadata": {
        "colab": {
          "base_uri": "https://localhost:8080/"
        },
        "id": "63o2WzNHhW21",
        "outputId": "8383b593-b0a7-4434-c13d-adde58f83184"
      },
      "outputs": [
        {
          "output_type": "stream",
          "name": "stdout",
          "text": [
            "Mounted at /content/drive\n",
            "/content/drive/My Drive/cs231n/assignments/assignment1/cs231n/datasets\n",
            "/content/drive/My Drive/cs231n/assignments/assignment1\n"
          ]
        }
      ],
      "source": [
        "# This mounts your Google Drive to the Colab VM.\n",
        "from google.colab import drive\n",
        "drive.mount('/content/drive', force_remount=True)\n",
        "\n",
        "# Enter the foldername in your Drive where you have saved the unzipped\n",
        "# assignment folder, e.g. 'cs231n/assignments/assignment1/'\n",
        "FOLDERNAME = 'cs231n/assignments/assignment1/'\n",
        "assert FOLDERNAME is not None, \"[!] Enter the foldername.\"\n",
        "\n",
        "# Now that we've mounted your Drive, this ensures that\n",
        "# the Python interpreter of the Colab VM can load\n",
        "# python files from within it.\n",
        "import sys\n",
        "sys.path.append('/content/drive/My Drive/{}'.format(FOLDERNAME))\n",
        "\n",
        "# This downloads the CIFAR-10 dataset to your Drive\n",
        "# if it doesn't already exist.\n",
        "%cd drive/My\\ Drive/$FOLDERNAME/cs231n/datasets/\n",
        "!bash get_datasets.sh\n",
        "%cd /content/drive/My\\ Drive/$FOLDERNAME"
      ]
    },
    {
      "cell_type": "markdown",
      "metadata": {
        "tags": [
          "pdf-title"
        ],
        "id": "LEkPwdU2hW3A"
      },
      "source": [
        "# Softmax exercise\n",
        "\n",
        "*Complete and hand in this completed worksheet (including its outputs and any supporting code outside of the worksheet) with your assignment submission. For more details see the [assignments page](http://vision.stanford.edu/teaching/cs231n/assignments.html) on the course website.*\n",
        "\n",
        "This exercise is analogous to the SVM exercise. You will:\n",
        "\n",
        "- implement a fully-vectorized **loss function** for the Softmax classifier\n",
        "- implement the fully-vectorized expression for its **analytic gradient**\n",
        "- **check your implementation** with numerical gradient\n",
        "- use a validation set to **tune the learning rate and regularization** strength\n",
        "- **optimize** the loss function with **SGD**\n",
        "- **visualize** the final learned weights\n"
      ]
    },
    {
      "cell_type": "code",
      "execution_count": 2,
      "metadata": {
        "tags": [
          "pdf-ignore"
        ],
        "id": "_toq5GschW3F"
      },
      "outputs": [],
      "source": [
        "import random\n",
        "import numpy as np\n",
        "from cs231n.data_utils import load_CIFAR10\n",
        "import matplotlib.pyplot as plt\n",
        "\n",
        "%matplotlib inline\n",
        "plt.rcParams['figure.figsize'] = (10.0, 8.0) # set default size of plots\n",
        "plt.rcParams['image.interpolation'] = 'nearest'\n",
        "plt.rcParams['image.cmap'] = 'gray'\n",
        "\n",
        "# for auto-reloading extenrnal modules\n",
        "# see http://stackoverflow.com/questions/1907993/autoreload-of-modules-in-ipython\n",
        "%load_ext autoreload\n",
        "%autoreload 2"
      ]
    },
    {
      "cell_type": "code",
      "execution_count": 3,
      "metadata": {
        "tags": [
          "pdf-ignore"
        ],
        "colab": {
          "base_uri": "https://localhost:8080/"
        },
        "id": "wBqDuyrnhW3K",
        "outputId": "cf145b1d-2f14-4310-e29f-da050140f41f"
      },
      "outputs": [
        {
          "output_type": "stream",
          "name": "stdout",
          "text": [
            "Train data shape:  (49000, 3073)\n",
            "Train labels shape:  (49000,)\n",
            "Validation data shape:  (1000, 3073)\n",
            "Validation labels shape:  (1000,)\n",
            "Test data shape:  (1000, 3073)\n",
            "Test labels shape:  (1000,)\n",
            "dev data shape:  (500, 3073)\n",
            "dev labels shape:  (500,)\n"
          ]
        }
      ],
      "source": [
        "def get_CIFAR10_data(num_training=49000, num_validation=1000, num_test=1000, num_dev=500):\n",
        "    \"\"\"\n",
        "    Load the CIFAR-10 dataset from disk and perform preprocessing to prepare\n",
        "    it for the linear classifier. These are the same steps as we used for the\n",
        "    SVM, but condensed to a single function.  \n",
        "    \"\"\"\n",
        "    # Load the raw CIFAR-10 data\n",
        "    cifar10_dir = 'cs231n/datasets/cifar-10-batches-py'\n",
        "    \n",
        "    # Cleaning up variables to prevent loading data multiple times (which may cause memory issue)\n",
        "    try:\n",
        "       del X_train, y_train\n",
        "       del X_test, y_test\n",
        "       print('Clear previously loaded data.')\n",
        "    except:\n",
        "       pass\n",
        "\n",
        "    X_train, y_train, X_test, y_test = load_CIFAR10(cifar10_dir)\n",
        "    \n",
        "    # subsample the data\n",
        "    mask = list(range(num_training, num_training + num_validation))\n",
        "    X_val = X_train[mask]\n",
        "    y_val = y_train[mask]\n",
        "    mask = list(range(num_training))\n",
        "    X_train = X_train[mask]\n",
        "    y_train = y_train[mask]\n",
        "    mask = list(range(num_test))\n",
        "    X_test = X_test[mask]\n",
        "    y_test = y_test[mask]\n",
        "    mask = np.random.choice(num_training, num_dev, replace=False)\n",
        "    X_dev = X_train[mask]\n",
        "    y_dev = y_train[mask]\n",
        "    \n",
        "    # Preprocessing: reshape the image data into rows\n",
        "    X_train = np.reshape(X_train, (X_train.shape[0], -1))\n",
        "    X_val = np.reshape(X_val, (X_val.shape[0], -1))\n",
        "    X_test = np.reshape(X_test, (X_test.shape[0], -1))\n",
        "    X_dev = np.reshape(X_dev, (X_dev.shape[0], -1))\n",
        "    \n",
        "    # Normalize the data: subtract the mean image\n",
        "    mean_image = np.mean(X_train, axis = 0)\n",
        "    X_train -= mean_image\n",
        "    X_val -= mean_image\n",
        "    X_test -= mean_image\n",
        "    X_dev -= mean_image\n",
        "    \n",
        "    # add bias dimension and transform into columns\n",
        "    X_train = np.hstack([X_train, np.ones((X_train.shape[0], 1))])\n",
        "    X_val = np.hstack([X_val, np.ones((X_val.shape[0], 1))])\n",
        "    X_test = np.hstack([X_test, np.ones((X_test.shape[0], 1))])\n",
        "    X_dev = np.hstack([X_dev, np.ones((X_dev.shape[0], 1))])\n",
        "    \n",
        "    return X_train, y_train, X_val, y_val, X_test, y_test, X_dev, y_dev\n",
        "\n",
        "\n",
        "# Invoke the above function to get our data.\n",
        "X_train, y_train, X_val, y_val, X_test, y_test, X_dev, y_dev = get_CIFAR10_data()\n",
        "print('Train data shape: ', X_train.shape)\n",
        "print('Train labels shape: ', y_train.shape)\n",
        "print('Validation data shape: ', X_val.shape)\n",
        "print('Validation labels shape: ', y_val.shape)\n",
        "print('Test data shape: ', X_test.shape)\n",
        "print('Test labels shape: ', y_test.shape)\n",
        "print('dev data shape: ', X_dev.shape)\n",
        "print('dev labels shape: ', y_dev.shape)"
      ]
    },
    {
      "cell_type": "markdown",
      "metadata": {
        "id": "RhgQRHHchW3O"
      },
      "source": [
        "## Softmax Classifier\n",
        "\n",
        "Your code for this section will all be written inside `cs231n/classifiers/softmax.py`.\n"
      ]
    },
    {
      "cell_type": "code",
      "execution_count": 4,
      "metadata": {
        "colab": {
          "base_uri": "https://localhost:8080/"
        },
        "id": "R8Ft5K_ThW3P",
        "outputId": "4881e023-5554-44c6-8f65-40555ffce9ca"
      },
      "outputs": [
        {
          "output_type": "stream",
          "name": "stdout",
          "text": [
            "loss: 2.371123\n",
            "sanity check: 2.302585\n"
          ]
        }
      ],
      "source": [
        "# First implement the naive softmax loss function with nested loops.\n",
        "# Open the file cs231n/classifiers/softmax.py and implement the\n",
        "# softmax_loss_naive function.\n",
        "\n",
        "from cs231n.classifiers.softmax import softmax_loss_naive\n",
        "import time\n",
        "\n",
        "# Generate a random softmax weight matrix and use it to compute the loss.\n",
        "W = np.random.randn(3073, 10) * 0.0001\n",
        "loss, grad = softmax_loss_naive(W, X_dev, y_dev, 0.0)\n",
        "\n",
        "# As a rough sanity check, our loss should be something close to -log(0.1).\n",
        "print('loss: %f' % loss)\n",
        "print('sanity check: %f' % (-np.log(0.1)))"
      ]
    },
    {
      "cell_type": "markdown",
      "metadata": {
        "tags": [
          "pdf-inline"
        ],
        "id": "KYiass9mhW3P"
      },
      "source": [
        "**Inline Question 1**\n",
        "\n",
        "Why do we expect our loss to be close to -log(0.1)? Explain briefly.**\n",
        "\n",
        "$\\color{blue}{\\textit Your Answer:}$ *On average, scores are initially equally distributed, and loss is approximated by exp(a)/(10*exp(a)) * \n",
        "\n"
      ]
    },
    {
      "cell_type": "code",
      "execution_count": 5,
      "metadata": {
        "colab": {
          "base_uri": "https://localhost:8080/"
        },
        "id": "tm8HWEVMhW3Q",
        "outputId": "f727691b-711f-48c9-9fc7-edb292586fc3"
      },
      "outputs": [
        {
          "output_type": "stream",
          "name": "stdout",
          "text": [
            "numerical: -1.827925 analytic: -1.827925, relative error: 3.083203e-09\n",
            "numerical: 2.596789 analytic: 2.596789, relative error: 6.693606e-09\n",
            "numerical: -1.237186 analytic: -1.237186, relative error: 6.934479e-08\n",
            "numerical: 1.672626 analytic: 1.672626, relative error: 1.664599e-08\n",
            "numerical: 0.483524 analytic: 0.483524, relative error: 1.592339e-08\n",
            "numerical: -5.451128 analytic: -5.451128, relative error: 2.145777e-09\n",
            "numerical: -0.057070 analytic: -0.057070, relative error: 1.901708e-07\n",
            "numerical: -1.914211 analytic: -1.914211, relative error: 6.332198e-09\n",
            "numerical: -0.683349 analytic: -0.683349, relative error: 1.230083e-07\n",
            "numerical: -1.776437 analytic: -1.776437, relative error: 8.702728e-10\n",
            "numerical: 2.406939 analytic: 2.406939, relative error: 4.346079e-09\n",
            "numerical: -0.918575 analytic: -0.918575, relative error: 1.902557e-08\n",
            "numerical: -0.401627 analytic: -0.401627, relative error: 2.155301e-08\n",
            "numerical: 1.860340 analytic: 1.860340, relative error: 2.646926e-08\n",
            "numerical: 1.392764 analytic: 1.392764, relative error: 3.860936e-09\n",
            "numerical: -5.366713 analytic: -5.366713, relative error: 1.649288e-09\n",
            "numerical: -0.081296 analytic: -0.081296, relative error: 1.067043e-07\n",
            "numerical: 3.913736 analytic: 3.913736, relative error: 1.097502e-09\n",
            "numerical: -3.687365 analytic: -3.687365, relative error: 4.558959e-10\n",
            "numerical: -1.497549 analytic: -1.497549, relative error: 1.512152e-08\n"
          ]
        }
      ],
      "source": [
        "# Complete the implementation of softmax_loss_naive and implement a (naive)\n",
        "# version of the gradient that uses nested loops.\n",
        "loss, grad = softmax_loss_naive(W, X_dev, y_dev, 0.0)\n",
        "\n",
        "# As we did for the SVM, use numeric gradient checking as a debugging tool.\n",
        "# The numeric gradient should be close to the analytic gradient.\n",
        "from cs231n.gradient_check import grad_check_sparse\n",
        "f = lambda w: softmax_loss_naive(w, X_dev, y_dev, 0.0)[0]\n",
        "grad_numerical = grad_check_sparse(f, W, grad, 10)\n",
        "\n",
        "# similar to SVM case, do another gradient check with regularization\n",
        "loss, grad = softmax_loss_naive(W, X_dev, y_dev, 5e1)\n",
        "f = lambda w: softmax_loss_naive(w, X_dev, y_dev, 5e1)[0]\n",
        "grad_numerical = grad_check_sparse(f, W, grad, 10)"
      ]
    },
    {
      "cell_type": "code",
      "execution_count": 45,
      "metadata": {
        "colab": {
          "base_uri": "https://localhost:8080/"
        },
        "id": "F35GPnZ4hW3S",
        "outputId": "4ce38cd2-3804-460e-9594-9ec40b515a72"
      },
      "outputs": [
        {
          "output_type": "stream",
          "name": "stdout",
          "text": [
            "naive loss: 2.371123e+00 computed in 0.180008s\n",
            "num_train=500, num_classes=10, num_data=3073\n",
            "vectorized loss: 2.371123e+00 computed in 0.019493s\n",
            "Loss difference: 0.000000\n",
            "Gradient difference: 0.000000\n"
          ]
        }
      ],
      "source": [
        "# Now that we have a naive implementation of the softmax loss function and its gradient,\n",
        "# implement a vectorized version in softmax_loss_vectorized.\n",
        "# The two versions should compute the same results, but the vectorized version should be\n",
        "# much faster.\n",
        "tic = time.time()\n",
        "loss_naive, grad_naive = softmax_loss_naive(W, X_dev, y_dev, 0.000005)\n",
        "toc = time.time()\n",
        "print('naive loss: %e computed in %fs' % (loss_naive, toc - tic))\n",
        "\n",
        "from cs231n.classifiers.softmax import softmax_loss_vectorized\n",
        "tic = time.time()\n",
        "loss_vectorized, grad_vectorized = softmax_loss_vectorized(W, X_dev, y_dev, 0.000005)\n",
        "toc = time.time()\n",
        "print('vectorized loss: %e computed in %fs' % (loss_vectorized, toc - tic))\n",
        "\n",
        "# As we did for the SVM, we use the Frobenius norm to compare the two versions\n",
        "# of the gradient.\n",
        "grad_difference = np.linalg.norm(grad_naive - grad_vectorized, ord='fro')\n",
        "print('Loss difference: %f' % np.abs(loss_naive - loss_vectorized))\n",
        "print('Gradient difference: %f' % grad_difference)"
      ]
    },
    {
      "cell_type": "code",
      "execution_count": 50,
      "metadata": {
        "id": "tuning",
        "tags": [
          "code"
        ],
        "colab": {
          "base_uri": "https://localhost:8080/"
        },
        "outputId": "32348b30-41ac-4d4c-994a-8f14d47d3a0a"
      },
      "outputs": [
        {
          "output_type": "stream",
          "name": "stdout",
          "text": [
            "1: lr 2.594425e-07 reg 4.802774e+03 train accuracy: 0.374551 val accuracy: 0.395000\n",
            "2: lr 5.761260e-07 reg 1.807274e+04 train accuracy: 0.338735 val accuracy: 0.354000\n",
            "3: lr 7.326559e-07 reg 2.183121e+00 train accuracy: 0.331490 val accuracy: 0.332000\n",
            "4: lr 2.603099e-07 reg 2.461131e-01 train accuracy: 0.286082 val accuracy: 0.278000\n",
            "5: lr 4.745115e-06 reg 1.548729e+00 train accuracy: 0.389143 val accuracy: 0.376000\n",
            "6: lr 3.367414e-08 reg 3.097011e+03 train accuracy: 0.224735 val accuracy: 0.245000\n",
            "7: lr 2.339088e-05 reg 4.428078e+00 train accuracy: 0.266163 val accuracy: 0.275000\n",
            "8: lr 1.317734e-06 reg 1.083021e-01 train accuracy: 0.360490 val accuracy: 0.370000\n",
            "9: lr 3.577601e-05 reg 8.529243e+00 train accuracy: 0.312898 val accuracy: 0.321000\n",
            "10: lr 5.948678e-06 reg 7.503545e+01 train accuracy: 0.376980 val accuracy: 0.364000\n",
            "11: lr 1.238507e-07 reg 3.177406e-01 train accuracy: 0.261531 val accuracy: 0.259000\n",
            "12: lr 4.528318e-07 reg 1.672609e+04 train accuracy: 0.348245 val accuracy: 0.365000\n",
            "13: lr 2.764015e-07 reg 7.261549e+00 train accuracy: 0.292286 val accuracy: 0.288000\n",
            "14: lr 1.319016e-06 reg 7.390490e-01 train accuracy: 0.364184 val accuracy: 0.352000\n",
            "15: lr 1.120555e-05 reg 4.248741e-01 train accuracy: 0.247000 val accuracy: 0.241000\n",
            "16: lr 3.291050e-07 reg 5.948619e+03 train accuracy: 0.372531 val accuracy: 0.377000\n",
            "17: lr 3.786171e-07 reg 6.293827e+03 train accuracy: 0.365735 val accuracy: 0.381000\n",
            "18: lr 2.337830e-08 reg 3.563898e+02 train accuracy: 0.184694 val accuracy: 0.199000\n",
            "19: lr 2.613255e-06 reg 3.213721e+04 train accuracy: 0.294061 val accuracy: 0.308000\n",
            "20: lr 2.343938e-06 reg 6.984839e+03 train accuracy: 0.331122 val accuracy: 0.326000\n",
            "21: lr 1.332452e-05 reg 3.180995e-01 train accuracy: 0.303939 val accuracy: 0.298000\n",
            "22: lr 7.596988e-08 reg 4.943569e+02 train accuracy: 0.241388 val accuracy: 0.262000\n",
            "23: lr 1.652700e-06 reg 4.376500e+00 train accuracy: 0.365694 val accuracy: 0.327000\n",
            "24: lr 8.753163e-08 reg 1.733109e+01 train accuracy: 0.239796 val accuracy: 0.250000\n",
            "25: lr 4.275995e-08 reg 1.574638e-01 train accuracy: 0.208224 val accuracy: 0.227000\n",
            "26: lr 2.912870e-08 reg 1.207160e+02 train accuracy: 0.197408 val accuracy: 0.198000\n",
            "27: lr 4.359149e-05 reg 1.889357e+04 train accuracy: 0.066408 val accuracy: 0.059000\n",
            "28: lr 3.128928e-06 reg 2.180419e+02 train accuracy: 0.406571 val accuracy: 0.379000\n",
            "29: lr 3.096252e-07 reg 1.703260e+02 train accuracy: 0.311571 val accuracy: 0.306000\n",
            "30: lr 3.849930e-06 reg 2.204240e-01 train accuracy: 0.398449 val accuracy: 0.371000\n",
            "31: lr 1.762786e-06 reg 3.618658e-01 train accuracy: 0.369653 val accuracy: 0.342000\n",
            "32: lr 4.849870e-07 reg 2.260102e+00 train accuracy: 0.315898 val accuracy: 0.336000\n",
            "33: lr 4.511505e-06 reg 1.565842e-01 train accuracy: 0.396449 val accuracy: 0.369000\n",
            "34: lr 4.450874e-06 reg 9.725610e+02 train accuracy: 0.363490 val accuracy: 0.339000\n",
            "35: lr 2.513188e-07 reg 3.377737e+02 train accuracy: 0.301694 val accuracy: 0.312000\n",
            "36: lr 2.129667e-07 reg 7.580457e+01 train accuracy: 0.280735 val accuracy: 0.258000\n",
            "37: lr 1.890201e-07 reg 4.494542e+00 train accuracy: 0.274755 val accuracy: 0.282000\n",
            "38: lr 3.441573e-05 reg 1.116003e+01 train accuracy: 0.272163 val accuracy: 0.277000\n",
            "39: lr 1.766000e-06 reg 8.016989e+01 train accuracy: 0.392714 val accuracy: 0.376000\n",
            "40: lr 2.637889e-06 reg 4.043613e-01 train accuracy: 0.381714 val accuracy: 0.356000\n",
            "41: lr 4.186497e-05 reg 6.855689e+00 train accuracy: 0.278408 val accuracy: 0.262000\n",
            "42: lr 4.071843e-05 reg 1.723644e+00 train accuracy: 0.340041 val accuracy: 0.301000\n",
            "43: lr 4.777064e-07 reg 3.433180e+00 train accuracy: 0.311714 val accuracy: 0.319000\n",
            "44: lr 3.613441e-07 reg 2.550444e+01 train accuracy: 0.306408 val accuracy: 0.310000\n",
            "45: lr 5.596511e-07 reg 1.203313e+03 train accuracy: 0.388776 val accuracy: 0.394000\n",
            "46: lr 8.293013e-08 reg 2.712669e+01 train accuracy: 0.243878 val accuracy: 0.266000\n",
            "47: lr 3.460170e-05 reg 3.223696e+03 train accuracy: 0.160429 val accuracy: 0.150000\n",
            "48: lr 1.710120e-06 reg 4.391816e-01 train accuracy: 0.373408 val accuracy: 0.356000\n",
            "49: lr 6.367685e-08 reg 2.109423e-01 train accuracy: 0.222388 val accuracy: 0.226000\n",
            "50: lr 4.013738e-05 reg 4.329827e+02 train accuracy: 0.174857 val accuracy: 0.166000\n",
            "51: lr 2.826091e-06 reg 5.010120e+02 train accuracy: 0.396000 val accuracy: 0.383000\n",
            "52: lr 1.099028e-05 reg 1.799419e+04 train accuracy: 0.124265 val accuracy: 0.128000\n",
            "53: lr 7.336163e-08 reg 1.459209e+01 train accuracy: 0.237898 val accuracy: 0.235000\n",
            "54: lr 3.754659e-05 reg 1.213900e+00 train accuracy: 0.271388 val accuracy: 0.249000\n",
            "55: lr 9.589895e-08 reg 7.615590e+02 train accuracy: 0.263102 val accuracy: 0.256000\n",
            "56: lr 6.959372e-06 reg 1.124139e+00 train accuracy: 0.352776 val accuracy: 0.328000\n",
            "57: lr 1.375764e-05 reg 3.185025e+04 train accuracy: 0.106959 val accuracy: 0.109000\n",
            "58: lr 4.749480e-06 reg 2.790406e+02 train accuracy: 0.391551 val accuracy: 0.383000\n"
          ]
        },
        {
          "output_type": "stream",
          "name": "stderr",
          "text": [
            "/content/drive/My Drive/cs231n/assignments/assignment1/cs231n/classifiers/softmax.py:118: RuntimeWarning: overflow encountered in double_scalars\n",
            "  dW += np.dot(X.T, coeff_X)\n",
            "/usr/local/lib/python3.7/dist-packages/numpy/core/fromnumeric.py:87: RuntimeWarning: overflow encountered in reduce\n",
            "  return ufunc.reduce(obj, axis, dtype, out, **passkwargs)\n",
            "/content/drive/My Drive/cs231n/assignments/assignment1/cs231n/classifiers/softmax.py:118: RuntimeWarning: overflow encountered in multiply\n",
            "  dW += np.dot(X.T, coeff_X)\n",
            "/usr/local/lib/python3.7/dist-packages/numpy/core/_methods.py:47: RuntimeWarning: overflow encountered in reduce\n",
            "  return umr_sum(a, axis, dtype, out, keepdims, initial, where)\n",
            "/content/drive/My Drive/cs231n/assignments/assignment1/cs231n/classifiers/softmax.py:119: RuntimeWarning: overflow encountered in multiply\n",
            "  \n"
          ]
        },
        {
          "output_type": "stream",
          "name": "stdout",
          "text": [
            "59: lr 4.283174e-05 reg 4.020327e+04 train accuracy: 0.100265 val accuracy: 0.087000\n",
            "60: lr 2.335956e-07 reg 6.674513e+01 train accuracy: 0.283490 val accuracy: 0.293000\n",
            "61: lr 1.854649e-08 reg 9.126442e+02 train accuracy: 0.184245 val accuracy: 0.184000\n",
            "62: lr 2.473788e-05 reg 1.059788e+01 train accuracy: 0.285510 val accuracy: 0.276000\n",
            "63: lr 3.208447e-07 reg 2.152302e+02 train accuracy: 0.311490 val accuracy: 0.302000\n",
            "64: lr 1.258066e-05 reg 5.933721e-01 train accuracy: 0.328735 val accuracy: 0.314000\n",
            "65: lr 7.521539e-08 reg 1.478772e+01 train accuracy: 0.227837 val accuracy: 0.232000\n",
            "66: lr 1.005481e-05 reg 8.793669e+00 train accuracy: 0.336286 val accuracy: 0.330000\n",
            "67: lr 7.528074e-07 reg 7.089169e+01 train accuracy: 0.346918 val accuracy: 0.345000\n",
            "68: lr 1.165781e-06 reg 5.643858e+02 train accuracy: 0.403020 val accuracy: 0.398000\n",
            "69: lr 8.154711e-08 reg 1.402694e+01 train accuracy: 0.233000 val accuracy: 0.242000\n",
            "70: lr 1.435371e-06 reg 4.670138e-01 train accuracy: 0.363633 val accuracy: 0.388000\n",
            "71: lr 4.365867e-06 reg 3.935418e-01 train accuracy: 0.380184 val accuracy: 0.350000\n",
            "72: lr 1.617814e-08 reg 3.124632e+00 train accuracy: 0.167306 val accuracy: 0.173000\n",
            "73: lr 7.994017e-07 reg 3.334812e+02 train accuracy: 0.378102 val accuracy: 0.370000\n",
            "74: lr 1.087832e-07 reg 9.058095e-01 train accuracy: 0.254510 val accuracy: 0.281000\n",
            "75: lr 7.886862e-06 reg 4.262599e+04 train accuracy: 0.137571 val accuracy: 0.144000\n",
            "76: lr 4.259107e-05 reg 3.465444e-01 train accuracy: 0.288306 val accuracy: 0.268000\n",
            "77: lr 1.298283e-06 reg 1.472614e+04 train accuracy: 0.341469 val accuracy: 0.350000\n",
            "78: lr 4.432904e-05 reg 5.924348e+00 train accuracy: 0.301918 val accuracy: 0.309000\n",
            "79: lr 5.003365e-06 reg 9.334317e+00 train accuracy: 0.399122 val accuracy: 0.401000\n",
            "80: lr 4.500076e-06 reg 2.995524e+04 train accuracy: 0.246612 val accuracy: 0.260000\n",
            "81: lr 5.432446e-06 reg 7.986004e+01 train accuracy: 0.383531 val accuracy: 0.364000\n",
            "82: lr 5.697969e-08 reg 2.149120e+00 train accuracy: 0.218694 val accuracy: 0.220000\n",
            "83: lr 1.158847e-05 reg 5.663756e+00 train accuracy: 0.329918 val accuracy: 0.314000\n",
            "84: lr 2.438506e-07 reg 5.210933e+00 train accuracy: 0.286163 val accuracy: 0.309000\n",
            "85: lr 1.517188e-05 reg 3.734476e+04 train accuracy: 0.109714 val accuracy: 0.109000\n",
            "86: lr 6.420538e-08 reg 2.182695e+04 train accuracy: 0.335102 val accuracy: 0.352000\n",
            "87: lr 3.795011e-05 reg 9.371783e+03 train accuracy: 0.089571 val accuracy: 0.071000\n",
            "88: lr 1.147368e-08 reg 6.737978e+00 train accuracy: 0.169796 val accuracy: 0.174000\n",
            "89: lr 5.429234e-06 reg 1.702853e-01 train accuracy: 0.388694 val accuracy: 0.375000\n",
            "90: lr 2.964357e-05 reg 3.175628e-01 train accuracy: 0.306980 val accuracy: 0.323000\n",
            "91: lr 1.040518e-06 reg 8.199997e+00 train accuracy: 0.347082 val accuracy: 0.337000\n",
            "92: lr 3.561650e-06 reg 3.522923e+04 train accuracy: 0.251653 val accuracy: 0.268000\n",
            "93: lr 6.867681e-07 reg 5.086556e+02 train accuracy: 0.384735 val accuracy: 0.392000\n",
            "94: lr 7.370724e-07 reg 1.211674e-01 train accuracy: 0.340633 val accuracy: 0.319000\n",
            "95: lr 5.862940e-07 reg 1.463426e+03 train accuracy: 0.390939 val accuracy: 0.399000\n",
            "96: lr 1.480978e-08 reg 4.273634e+01 train accuracy: 0.159224 val accuracy: 0.145000\n",
            "97: lr 2.493080e-08 reg 3.557209e-01 train accuracy: 0.185204 val accuracy: 0.189000\n",
            "98: lr 2.405157e-06 reg 1.759349e+01 train accuracy: 0.378592 val accuracy: 0.367000\n",
            "99: lr 1.357646e-08 reg 3.291816e+01 train accuracy: 0.153388 val accuracy: 0.162000\n",
            "100: lr 1.817448e-05 reg 6.548993e+03 train accuracy: 0.111857 val accuracy: 0.096000\n",
            "Hyperparameter tuning completed\n",
            "lr 1.147368e-08 reg 6.737978e+00 train accuracy: 0.169796 val accuracy: 0.174000\n",
            "lr 1.357646e-08 reg 3.291816e+01 train accuracy: 0.153388 val accuracy: 0.162000\n",
            "lr 1.480978e-08 reg 4.273634e+01 train accuracy: 0.159224 val accuracy: 0.145000\n",
            "lr 1.617814e-08 reg 3.124632e+00 train accuracy: 0.167306 val accuracy: 0.173000\n",
            "lr 1.854649e-08 reg 9.126442e+02 train accuracy: 0.184245 val accuracy: 0.184000\n",
            "lr 2.337830e-08 reg 3.563898e+02 train accuracy: 0.184694 val accuracy: 0.199000\n",
            "lr 2.493080e-08 reg 3.557209e-01 train accuracy: 0.185204 val accuracy: 0.189000\n",
            "lr 2.912870e-08 reg 1.207160e+02 train accuracy: 0.197408 val accuracy: 0.198000\n",
            "lr 3.367414e-08 reg 3.097011e+03 train accuracy: 0.224735 val accuracy: 0.245000\n",
            "lr 4.275995e-08 reg 1.574638e-01 train accuracy: 0.208224 val accuracy: 0.227000\n",
            "lr 5.697969e-08 reg 2.149120e+00 train accuracy: 0.218694 val accuracy: 0.220000\n",
            "lr 6.367685e-08 reg 2.109423e-01 train accuracy: 0.222388 val accuracy: 0.226000\n",
            "lr 6.420538e-08 reg 2.182695e+04 train accuracy: 0.335102 val accuracy: 0.352000\n",
            "lr 7.336163e-08 reg 1.459209e+01 train accuracy: 0.237898 val accuracy: 0.235000\n",
            "lr 7.521539e-08 reg 1.478772e+01 train accuracy: 0.227837 val accuracy: 0.232000\n",
            "lr 7.596988e-08 reg 4.943569e+02 train accuracy: 0.241388 val accuracy: 0.262000\n",
            "lr 8.154711e-08 reg 1.402694e+01 train accuracy: 0.233000 val accuracy: 0.242000\n",
            "lr 8.293013e-08 reg 2.712669e+01 train accuracy: 0.243878 val accuracy: 0.266000\n",
            "lr 8.753163e-08 reg 1.733109e+01 train accuracy: 0.239796 val accuracy: 0.250000\n",
            "lr 9.589895e-08 reg 7.615590e+02 train accuracy: 0.263102 val accuracy: 0.256000\n",
            "lr 1.087832e-07 reg 9.058095e-01 train accuracy: 0.254510 val accuracy: 0.281000\n",
            "lr 1.238507e-07 reg 3.177406e-01 train accuracy: 0.261531 val accuracy: 0.259000\n",
            "lr 1.890201e-07 reg 4.494542e+00 train accuracy: 0.274755 val accuracy: 0.282000\n",
            "lr 2.129667e-07 reg 7.580457e+01 train accuracy: 0.280735 val accuracy: 0.258000\n",
            "lr 2.335956e-07 reg 6.674513e+01 train accuracy: 0.283490 val accuracy: 0.293000\n",
            "lr 2.438506e-07 reg 5.210933e+00 train accuracy: 0.286163 val accuracy: 0.309000\n",
            "lr 2.513188e-07 reg 3.377737e+02 train accuracy: 0.301694 val accuracy: 0.312000\n",
            "lr 2.594425e-07 reg 4.802774e+03 train accuracy: 0.374551 val accuracy: 0.395000\n",
            "lr 2.603099e-07 reg 2.461131e-01 train accuracy: 0.286082 val accuracy: 0.278000\n",
            "lr 2.764015e-07 reg 7.261549e+00 train accuracy: 0.292286 val accuracy: 0.288000\n",
            "lr 3.096252e-07 reg 1.703260e+02 train accuracy: 0.311571 val accuracy: 0.306000\n",
            "lr 3.208447e-07 reg 2.152302e+02 train accuracy: 0.311490 val accuracy: 0.302000\n",
            "lr 3.291050e-07 reg 5.948619e+03 train accuracy: 0.372531 val accuracy: 0.377000\n",
            "lr 3.613441e-07 reg 2.550444e+01 train accuracy: 0.306408 val accuracy: 0.310000\n",
            "lr 3.786171e-07 reg 6.293827e+03 train accuracy: 0.365735 val accuracy: 0.381000\n",
            "lr 4.528318e-07 reg 1.672609e+04 train accuracy: 0.348245 val accuracy: 0.365000\n",
            "lr 4.777064e-07 reg 3.433180e+00 train accuracy: 0.311714 val accuracy: 0.319000\n",
            "lr 4.849870e-07 reg 2.260102e+00 train accuracy: 0.315898 val accuracy: 0.336000\n",
            "lr 5.596511e-07 reg 1.203313e+03 train accuracy: 0.388776 val accuracy: 0.394000\n",
            "lr 5.761260e-07 reg 1.807274e+04 train accuracy: 0.338735 val accuracy: 0.354000\n",
            "lr 5.862940e-07 reg 1.463426e+03 train accuracy: 0.390939 val accuracy: 0.399000\n",
            "lr 6.867681e-07 reg 5.086556e+02 train accuracy: 0.384735 val accuracy: 0.392000\n",
            "lr 7.326559e-07 reg 2.183121e+00 train accuracy: 0.331490 val accuracy: 0.332000\n",
            "lr 7.370724e-07 reg 1.211674e-01 train accuracy: 0.340633 val accuracy: 0.319000\n",
            "lr 7.528074e-07 reg 7.089169e+01 train accuracy: 0.346918 val accuracy: 0.345000\n",
            "lr 7.994017e-07 reg 3.334812e+02 train accuracy: 0.378102 val accuracy: 0.370000\n",
            "lr 1.040518e-06 reg 8.199997e+00 train accuracy: 0.347082 val accuracy: 0.337000\n",
            "lr 1.165781e-06 reg 5.643858e+02 train accuracy: 0.403020 val accuracy: 0.398000\n",
            "lr 1.298283e-06 reg 1.472614e+04 train accuracy: 0.341469 val accuracy: 0.350000\n",
            "lr 1.317734e-06 reg 1.083021e-01 train accuracy: 0.360490 val accuracy: 0.370000\n",
            "lr 1.319016e-06 reg 7.390490e-01 train accuracy: 0.364184 val accuracy: 0.352000\n",
            "lr 1.435371e-06 reg 4.670138e-01 train accuracy: 0.363633 val accuracy: 0.388000\n",
            "lr 1.652700e-06 reg 4.376500e+00 train accuracy: 0.365694 val accuracy: 0.327000\n",
            "lr 1.710120e-06 reg 4.391816e-01 train accuracy: 0.373408 val accuracy: 0.356000\n",
            "lr 1.762786e-06 reg 3.618658e-01 train accuracy: 0.369653 val accuracy: 0.342000\n",
            "lr 1.766000e-06 reg 8.016989e+01 train accuracy: 0.392714 val accuracy: 0.376000\n",
            "lr 2.343938e-06 reg 6.984839e+03 train accuracy: 0.331122 val accuracy: 0.326000\n",
            "lr 2.405157e-06 reg 1.759349e+01 train accuracy: 0.378592 val accuracy: 0.367000\n",
            "lr 2.613255e-06 reg 3.213721e+04 train accuracy: 0.294061 val accuracy: 0.308000\n",
            "lr 2.637889e-06 reg 4.043613e-01 train accuracy: 0.381714 val accuracy: 0.356000\n",
            "lr 2.826091e-06 reg 5.010120e+02 train accuracy: 0.396000 val accuracy: 0.383000\n",
            "lr 3.128928e-06 reg 2.180419e+02 train accuracy: 0.406571 val accuracy: 0.379000\n",
            "lr 3.561650e-06 reg 3.522923e+04 train accuracy: 0.251653 val accuracy: 0.268000\n",
            "lr 3.849930e-06 reg 2.204240e-01 train accuracy: 0.398449 val accuracy: 0.371000\n",
            "lr 4.365867e-06 reg 3.935418e-01 train accuracy: 0.380184 val accuracy: 0.350000\n",
            "lr 4.450874e-06 reg 9.725610e+02 train accuracy: 0.363490 val accuracy: 0.339000\n",
            "lr 4.500076e-06 reg 2.995524e+04 train accuracy: 0.246612 val accuracy: 0.260000\n",
            "lr 4.511505e-06 reg 1.565842e-01 train accuracy: 0.396449 val accuracy: 0.369000\n",
            "lr 4.745115e-06 reg 1.548729e+00 train accuracy: 0.389143 val accuracy: 0.376000\n",
            "lr 4.749480e-06 reg 2.790406e+02 train accuracy: 0.391551 val accuracy: 0.383000\n",
            "lr 5.003365e-06 reg 9.334317e+00 train accuracy: 0.399122 val accuracy: 0.401000\n",
            "lr 5.429234e-06 reg 1.702853e-01 train accuracy: 0.388694 val accuracy: 0.375000\n",
            "lr 5.432446e-06 reg 7.986004e+01 train accuracy: 0.383531 val accuracy: 0.364000\n",
            "lr 5.948678e-06 reg 7.503545e+01 train accuracy: 0.376980 val accuracy: 0.364000\n",
            "lr 6.959372e-06 reg 1.124139e+00 train accuracy: 0.352776 val accuracy: 0.328000\n",
            "lr 7.886862e-06 reg 4.262599e+04 train accuracy: 0.137571 val accuracy: 0.144000\n",
            "lr 1.005481e-05 reg 8.793669e+00 train accuracy: 0.336286 val accuracy: 0.330000\n",
            "lr 1.099028e-05 reg 1.799419e+04 train accuracy: 0.124265 val accuracy: 0.128000\n",
            "lr 1.120555e-05 reg 4.248741e-01 train accuracy: 0.247000 val accuracy: 0.241000\n",
            "lr 1.158847e-05 reg 5.663756e+00 train accuracy: 0.329918 val accuracy: 0.314000\n",
            "lr 1.258066e-05 reg 5.933721e-01 train accuracy: 0.328735 val accuracy: 0.314000\n",
            "lr 1.332452e-05 reg 3.180995e-01 train accuracy: 0.303939 val accuracy: 0.298000\n",
            "lr 1.375764e-05 reg 3.185025e+04 train accuracy: 0.106959 val accuracy: 0.109000\n",
            "lr 1.517188e-05 reg 3.734476e+04 train accuracy: 0.109714 val accuracy: 0.109000\n",
            "lr 1.817448e-05 reg 6.548993e+03 train accuracy: 0.111857 val accuracy: 0.096000\n",
            "lr 2.339088e-05 reg 4.428078e+00 train accuracy: 0.266163 val accuracy: 0.275000\n",
            "lr 2.473788e-05 reg 1.059788e+01 train accuracy: 0.285510 val accuracy: 0.276000\n",
            "lr 2.964357e-05 reg 3.175628e-01 train accuracy: 0.306980 val accuracy: 0.323000\n",
            "lr 3.441573e-05 reg 1.116003e+01 train accuracy: 0.272163 val accuracy: 0.277000\n",
            "lr 3.460170e-05 reg 3.223696e+03 train accuracy: 0.160429 val accuracy: 0.150000\n",
            "lr 3.577601e-05 reg 8.529243e+00 train accuracy: 0.312898 val accuracy: 0.321000\n",
            "lr 3.754659e-05 reg 1.213900e+00 train accuracy: 0.271388 val accuracy: 0.249000\n",
            "lr 3.795011e-05 reg 9.371783e+03 train accuracy: 0.089571 val accuracy: 0.071000\n",
            "lr 4.013738e-05 reg 4.329827e+02 train accuracy: 0.174857 val accuracy: 0.166000\n",
            "lr 4.071843e-05 reg 1.723644e+00 train accuracy: 0.340041 val accuracy: 0.301000\n",
            "lr 4.186497e-05 reg 6.855689e+00 train accuracy: 0.278408 val accuracy: 0.262000\n",
            "lr 4.259107e-05 reg 3.465444e-01 train accuracy: 0.288306 val accuracy: 0.268000\n",
            "lr 4.283174e-05 reg 4.020327e+04 train accuracy: 0.100265 val accuracy: 0.087000\n",
            "lr 4.359149e-05 reg 1.889357e+04 train accuracy: 0.066408 val accuracy: 0.059000\n",
            "lr 4.432904e-05 reg 5.924348e+00 train accuracy: 0.301918 val accuracy: 0.309000\n",
            "best validation accuracy achieved during cross-validation: 0.401000\n"
          ]
        }
      ],
      "source": [
        "# Use the validation set to tune hyperparameters (regularization strength and\n",
        "# learning rate). You should experiment with different ranges for the learning\n",
        "# rates and regularization strengths; if you are careful you should be able to\n",
        "# get a classification accuracy of over 0.35 on the validation set.\n",
        "\n",
        "from cs231n.classifiers import Softmax\n",
        "results = {}\n",
        "best_val = -1\n",
        "best_softmax = None\n",
        "\n",
        "################################################################################\n",
        "# TODO:                                                                        #\n",
        "# Use the validation set to set the learning rate and regularization strength. #\n",
        "# This should be identical to the validation that you did for the SVM; save    #\n",
        "# the best trained softmax classifer in best_softmax.                          #\n",
        "################################################################################\n",
        "\n",
        "# Provided as a reference. You may or may not want to change these hyperparameters\n",
        "learning_rates = [1e-7, 5e-7]\n",
        "regularization_strengths = [2.5e4, 5e4]\n",
        "\n",
        "# *****START OF YOUR CODE (DO NOT DELETE/MODIFY THIS LINE)*****\n",
        "\n",
        "# Wider range at the low end\n",
        "learning_rates = [1e-8, 5e-5]\n",
        "regularization_strengths = [1e-1, 5e4]\n",
        "\n",
        "best_val = 0\n",
        "best_lr = 0\n",
        "best_reg = 0\n",
        "best_softmax = None\n",
        "\n",
        "for i in range(100):\n",
        "  # Use log uniform sampling\n",
        "  lr = np.exp(np.random.uniform(np.log(learning_rates[0]), \n",
        "                                np.log(learning_rates[1])))\n",
        "  reg = np.exp(np.random.uniform(np.log(regularization_strengths[0]), \n",
        "                                 np.log(regularization_strengths[1])))\n",
        "\n",
        "  softmax = Softmax()\n",
        "  loss_hist = softmax.train(X_train, y_train, learning_rate=lr, reg=reg,\n",
        "                            num_iters=1500, verbose=False)\n",
        "  \n",
        "  y_train_pred = softmax.predict(X_train)\n",
        "  y_val_pred = softmax.predict(X_val)\n",
        "\n",
        "  train_accuracy = np.mean(y_train == y_train_pred)\n",
        "  val_accuracy = np.mean(y_val == y_val_pred)\n",
        "\n",
        "  if best_val == 0 or val_accuracy > best_val:\n",
        "    best_val = val_accuracy\n",
        "    best_lr = lr\n",
        "    best_reg = reg\n",
        "    best_softmax = softmax\n",
        "\n",
        "  print('%d: lr %e reg %e train accuracy: %f val accuracy: %f' % (\n",
        "                i+1, lr, reg, train_accuracy, val_accuracy))\n",
        "\n",
        "  results[(lr, reg)] = (train_accuracy, val_accuracy)\n",
        "\n",
        "print(\"Hyperparameter tuning completed\")\n",
        "\n",
        "# *****END OF YOUR CODE (DO NOT DELETE/MODIFY THIS LINE)*****\n",
        "    \n",
        "# Print out results.\n",
        "for lr, reg in sorted(results):\n",
        "    train_accuracy, val_accuracy = results[(lr, reg)]\n",
        "    print('lr %e reg %e train accuracy: %f val accuracy: %f' % (\n",
        "                lr, reg, train_accuracy, val_accuracy))\n",
        "    \n",
        "print('best validation accuracy achieved during cross-validation: %f' % best_val)"
      ]
    },
    {
      "cell_type": "code",
      "execution_count": 51,
      "metadata": {
        "id": "test",
        "colab": {
          "base_uri": "https://localhost:8080/"
        },
        "outputId": "03ec3ba9-31f7-4d21-c371-8d284d1590e8"
      },
      "outputs": [
        {
          "output_type": "stream",
          "name": "stdout",
          "text": [
            "softmax on raw pixels final test set accuracy: 0.357000\n"
          ]
        }
      ],
      "source": [
        "# evaluate on test set\n",
        "# Evaluate the best softmax on test set\n",
        "y_test_pred = best_softmax.predict(X_test)\n",
        "test_accuracy = np.mean(y_test == y_test_pred)\n",
        "print('softmax on raw pixels final test set accuracy: %f' % (test_accuracy, ))"
      ]
    },
    {
      "cell_type": "markdown",
      "metadata": {
        "tags": [
          "pdf-inline"
        ],
        "id": "A2iC0p1xhW3X"
      },
      "source": [
        "**Inline Question 2** - *True or False*\n",
        "\n",
        "Suppose the overall training loss is defined as the sum of the per-datapoint loss over all training examples. It is possible to add a new datapoint to a training set that would leave the SVM loss unchanged, but this is not the case with the Softmax classifier loss.\n",
        "\n",
        "$\\color{blue}{\\textit Your Answer:}$ True.\n",
        "\n",
        "\n",
        "$\\color{blue}{\\textit Your Explanation:}$ Adding a datapoint to Softmax always increases the total loss, given that the softmax datapoint loss is > 0. Whereas a correctly classified datapoint to SVM has loss zero, so adding it as a datapoint does not increse the total loss.\n",
        "\n"
      ]
    },
    {
      "cell_type": "code",
      "execution_count": 52,
      "metadata": {
        "colab": {
          "base_uri": "https://localhost:8080/",
          "height": 380
        },
        "id": "EvQhJWA4hW3Y",
        "outputId": "61c56de7-91f4-4a3e-b76d-c75ea6efd554"
      },
      "outputs": [
        {
          "output_type": "display_data",
          "data": {
            "image/png": "[encoded data removed]",
            "text/plain": [
              "<Figure size 720x576 with 10 Axes>"
            ]
          },
          "metadata": {
            "needs_background": "light"
          }
        }
      ],
      "source": [
        "# Visualize the learned weights for each class\n",
        "w = best_softmax.W[:-1,:] # strip out the bias\n",
        "w = w.reshape(32, 32, 3, 10)\n",
        "\n",
        "w_min, w_max = np.min(w), np.max(w)\n",
        "\n",
        "classes = ['plane', 'car', 'bird', 'cat', 'deer', 'dog', 'frog', 'horse', 'ship', 'truck']\n",
        "for i in range(10):\n",
        "    plt.subplot(2, 5, i + 1)\n",
        "    \n",
        "    # Rescale the weights to be between 0 and 255\n",
        "    wimg = 255.0 * (w[:, :, :, i].squeeze() - w_min) / (w_max - w_min)\n",
        "    plt.imshow(wimg.astype('uint8'))\n",
        "    plt.axis('off')\n",
        "    plt.title(classes[i])"
      ]
    },
    {
      "cell_type": "code",
      "execution_count": null,
      "metadata": {
        "id": "knEkC4JNhW3Y"
      },
      "outputs": [],
      "source": [
        ""
      ]
    }
  ],
  "metadata": {
    "colab": {
      "name": "softmax.ipynb",
      "provenance": [],
      "include_colab_link": true
    },
    "language_info": {
      "name": "python"
    },
    "kernelspec": {
      "name": "python3",
      "display_name": "Python 3"
    }
  },
  "nbformat": 4,
  "nbformat_minor": 0
}