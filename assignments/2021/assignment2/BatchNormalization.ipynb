{
  "cells": [
    {
      "cell_type": "markdown",
      "metadata": {
        "id": "view-in-github",
        "colab_type": "text"
      },
      "source": [
        "<a href=\"https://colab.research.google.com/github/Bitdribble/cs231n/blob/master/assignments/2021/assignment2/BatchNormalization.ipynb\" target=\"_parent\"><img src=\"https://colab.research.google.com/assets/colab-badge.svg\" alt=\"Open In Colab\"/></a>"
      ]
    },
    {
      "cell_type": "code",
      "execution_count": 2,
      "metadata": {
        "colab": {
          "base_uri": "https://localhost:8080/"
        },
        "id": "qRnbwQVkmK1f",
        "outputId": "7cad461d-2a6f-4ee2-eec1-8b08e1618f08"
      },
      "outputs": [
        {
          "output_type": "stream",
          "name": "stdout",
          "text": [
            "Mounted at /content/drive\n",
            "/content/drive/My Drive/cs231n/assignments/assignment2/cs231n/datasets\n",
            "/content/drive/My Drive/cs231n/assignments/assignment2\n"
          ]
        }
      ],
      "source": [
        "# This mounts your Google Drive to the Colab VM.\n",
        "from google.colab import drive\n",
        "drive.mount('/content/drive')\n",
        "\n",
        "# TODO: Enter the foldername in your Drive where you have saved the unzipped\n",
        "# assignment folder, e.g. 'cs231n/assignments/assignment1/'\n",
        "FOLDERNAME = 'cs231n/assignments/assignment2'\n",
        "assert FOLDERNAME is not None, \"[!] Enter the foldername.\"\n",
        "\n",
        "# Now that we've mounted your Drive, this ensures that\n",
        "# the Python interpreter of the Colab VM can load\n",
        "# python files from within it.\n",
        "import sys\n",
        "sys.path.append('/content/drive/My Drive/{}'.format(FOLDERNAME))\n",
        "\n",
        "# This downloads the CIFAR-10 dataset to your Drive\n",
        "# if it doesn't already exist.\n",
        "%cd /content/drive/My\\ Drive/$FOLDERNAME/cs231n/datasets/\n",
        "!bash get_datasets.sh\n",
        "%cd /content/drive/My\\ Drive/$FOLDERNAME"
      ]
    },
    {
      "cell_type": "markdown",
      "metadata": {
        "tags": [
          "pdf-title"
        ],
        "id": "CVv7zrThmK1h"
      },
      "source": [
        "# Batch Normalization\n",
        "One way to make deep networks easier to train is to use more sophisticated optimization procedures such as SGD+momentum, RMSProp, or Adam. Another strategy is to change the architecture of the network to make it easier to train. One idea along these lines is batch normalization, proposed by [1] in 2015.\n",
        "\n",
        "To understand the goal of batch normalization, it is important to first recognize that machine learning methods tend to perform better with input data consisting of uncorrelated features with zero mean and unit variance. When training a neural network, we can preprocess the data before feeding it to the network to explicitly decorrelate its features. This will ensure that the first layer of the network sees data that follows a nice distribution. However, even if we preprocess the input data, the activations at deeper layers of the network will likely no longer be decorrelated and will no longer have zero mean or unit variance, since they are output from earlier layers in the network. Even worse, during the training process the distribution of features at each layer of the network will shift as the weights of each layer are updated.\n",
        "\n",
        "The authors of [1] hypothesize that the shifting distribution of features inside deep neural networks may make training deep networks more difficult. To overcome this problem, they propose to insert into the network layers that normalize batches. At training time, such a layer uses a minibatch of data to estimate the mean and standard deviation of each feature. These estimated means and standard deviations are then used to center and normalize the features of the minibatch. A running average of these means and standard deviations is kept during training, and at test time these running averages are used to center and normalize features.\n",
        "\n",
        "It is possible that this normalization strategy could reduce the representational power of the network, since it may sometimes be optimal for certain layers to have features that are not zero-mean or unit variance. To this end, the batch normalization layer includes learnable shift and scale parameters for each feature dimension.\n",
        "\n",
        "[1] [Sergey Ioffe and Christian Szegedy, \"Batch Normalization: Accelerating Deep Network Training by Reducing\n",
        "Internal Covariate Shift\", ICML 2015.](https://arxiv.org/abs/1502.03167)"
      ]
    },
    {
      "cell_type": "code",
      "execution_count": 3,
      "metadata": {
        "tags": [
          "pdf-ignore"
        ],
        "colab": {
          "base_uri": "https://localhost:8080/"
        },
        "id": "nDhEntZpmK1j",
        "outputId": "cebd7aa3-f78d-49fc-fdd7-801c3360ddb6"
      },
      "outputs": [
        {
          "output_type": "stream",
          "name": "stdout",
          "text": [
            "=========== You can safely ignore the message below if you are NOT working on ConvolutionalNetworks.ipynb ===========\n",
            "\tYou will need to compile a Cython extension for a portion of this assignment.\n",
            "\tThe instructions to do this will be given in a section of the notebook below.\n"
          ]
        }
      ],
      "source": [
        "# Setup cell.\n",
        "import time\n",
        "import numpy as np\n",
        "import matplotlib.pyplot as plt\n",
        "from cs231n.classifiers.fc_net import *\n",
        "from cs231n.data_utils import get_CIFAR10_data\n",
        "from cs231n.gradient_check import eval_numerical_gradient, eval_numerical_gradient_array\n",
        "from cs231n.solver import Solver\n",
        "\n",
        "%matplotlib inline\n",
        "plt.rcParams[\"figure.figsize\"] = (10.0, 8.0)  # Set default size of plots.\n",
        "plt.rcParams[\"image.interpolation\"] = \"nearest\"\n",
        "plt.rcParams[\"image.cmap\"] = \"gray\"\n",
        "\n",
        "%load_ext autoreload\n",
        "%autoreload 2\n",
        "\n",
        "def rel_error(x, y):\n",
        "    \"\"\"Returns relative error.\"\"\"\n",
        "    return np.max(np.abs(x - y) / (np.maximum(1e-8, np.abs(x) + np.abs(y))))\n",
        "\n",
        "def print_mean_std(x,axis=0):\n",
        "    print(f\"  means: {x.mean(axis=axis)}\")\n",
        "    print(f\"  stds:  {x.std(axis=axis)}\\n\")"
      ]
    },
    {
      "cell_type": "code",
      "execution_count": 4,
      "metadata": {
        "tags": [
          "pdf-ignore"
        ],
        "colab": {
          "base_uri": "https://localhost:8080/"
        },
        "id": "g1bWIvrrmK1k",
        "outputId": "d01afdec-7ea5-41b1-adc9-27cc6e25fc34"
      },
      "outputs": [
        {
          "output_type": "stream",
          "name": "stdout",
          "text": [
            "X_train: (49000, 3, 32, 32)\n",
            "y_train: (49000,)\n",
            "X_val: (1000, 3, 32, 32)\n",
            "y_val: (1000,)\n",
            "X_test: (1000, 3, 32, 32)\n",
            "y_test: (1000,)\n"
          ]
        }
      ],
      "source": [
        "# Load the (preprocessed) CIFAR-10 data.\n",
        "data = get_CIFAR10_data()\n",
        "for k, v in list(data.items()):\n",
        "    print(f\"{k}: {v.shape}\")"
      ]
    },
    {
      "cell_type": "markdown",
      "metadata": {
        "id": "SL0fsOYdmK1l"
      },
      "source": [
        "# Batch Normalization: Forward Pass\n",
        "In the file `cs231n/layers.py`, implement the batch normalization forward pass in the function `batchnorm_forward`. Once you have done so, run the following to test your implementation.\n",
        "\n",
        "Referencing the paper linked to above in [1] may be helpful!"
      ]
    },
    {
      "cell_type": "code",
      "execution_count": 8,
      "metadata": {
        "colab": {
          "base_uri": "https://localhost:8080/"
        },
        "id": "NV2wN065mK1m",
        "outputId": "3bd48dd7-20f0-4584-bcea-bbb0117d6cd5"
      },
      "outputs": [
        {
          "output_type": "stream",
          "name": "stdout",
          "text": [
            "Before batch normalization:\n",
            "  means: [ -2.3814598  -13.18038246   1.91780462]\n",
            "  stds:  [27.18502186 34.21455511 37.68611762]\n",
            "\n",
            "After batch normalization (gamma=1, beta=0)\n",
            "  means: [5.99520433e-17 6.93889390e-17 8.32667268e-19]\n",
            "  stds:  [0.99999999 1.         1.        ]\n",
            "\n",
            "After batch normalization (gamma= [1. 2. 3.] , beta= [11. 12. 13.] )\n",
            "  means: [11. 12. 13.]\n",
            "  stds:  [0.99999999 1.99999999 2.99999999]\n",
            "\n"
          ]
        }
      ],
      "source": [
        "# Check the training-time forward pass by checking means and variances\n",
        "# of features both before and after batch normalization   \n",
        "\n",
        "# Simulate the forward pass for a two-layer network.\n",
        "np.random.seed(231)\n",
        "N, D1, D2, D3 = 200, 50, 60, 3\n",
        "X = np.random.randn(N, D1)\n",
        "W1 = np.random.randn(D1, D2)\n",
        "W2 = np.random.randn(D2, D3)\n",
        "a = np.maximum(0, X.dot(W1)).dot(W2)\n",
        "\n",
        "print('Before batch normalization:')\n",
        "print_mean_std(a,axis=0)\n",
        "\n",
        "gamma = np.ones((D3,))\n",
        "beta = np.zeros((D3,))\n",
        "\n",
        "# Means should be close to zero and stds close to one.\n",
        "print('After batch normalization (gamma=1, beta=0)')\n",
        "a_norm, _ = batchnorm_forward(a, gamma, beta, {'mode': 'train'})\n",
        "print_mean_std(a_norm,axis=0)\n",
        "\n",
        "gamma = np.asarray([1.0, 2.0, 3.0])\n",
        "beta = np.asarray([11.0, 12.0, 13.0])\n",
        "\n",
        "# Now means should be close to beta and stds close to gamma.\n",
        "print('After batch normalization (gamma=', gamma, ', beta=', beta, ')')\n",
        "a_norm, _ = batchnorm_forward(a, gamma, beta, {'mode': 'train'})\n",
        "print_mean_std(a_norm,axis=0)"
      ]
    },
    {
      "cell_type": "code",
      "execution_count": 9,
      "metadata": {
        "colab": {
          "base_uri": "https://localhost:8080/"
        },
        "id": "RO35wgq6mK1n",
        "outputId": "db175f27-74d1-4de6-dc00-85b00bf1f0e2"
      },
      "outputs": [
        {
          "output_type": "stream",
          "name": "stdout",
          "text": [
            "After batch normalization (test-time):\n",
            "  means: [-0.03927354 -0.04349152 -0.10452688]\n",
            "  stds:  [1.01531428 1.01238373 0.97819988]\n",
            "\n"
          ]
        }
      ],
      "source": [
        "# Check the test-time forward pass by running the training-time\n",
        "# forward pass many times to warm up the running averages, and then\n",
        "# checking the means and variances of activations after a test-time\n",
        "# forward pass.\n",
        "\n",
        "np.random.seed(231)\n",
        "N, D1, D2, D3 = 200, 50, 60, 3\n",
        "W1 = np.random.randn(D1, D2)\n",
        "W2 = np.random.randn(D2, D3)\n",
        "\n",
        "bn_param = {'mode': 'train'}\n",
        "gamma = np.ones(D3)\n",
        "beta = np.zeros(D3)\n",
        "\n",
        "for t in range(50):\n",
        "  X = np.random.randn(N, D1)\n",
        "  a = np.maximum(0, X.dot(W1)).dot(W2)\n",
        "  batchnorm_forward(a, gamma, beta, bn_param)\n",
        "\n",
        "bn_param['mode'] = 'test'\n",
        "X = np.random.randn(N, D1)\n",
        "a = np.maximum(0, X.dot(W1)).dot(W2)\n",
        "a_norm, _ = batchnorm_forward(a, gamma, beta, bn_param)\n",
        "\n",
        "# Means should be close to zero and stds close to one, but will be\n",
        "# noisier than training-time forward passes.\n",
        "print('After batch normalization (test-time):')\n",
        "print_mean_std(a_norm,axis=0)"
      ]
    },
    {
      "cell_type": "markdown",
      "metadata": {
        "id": "BH5bsUuEmK1p"
      },
      "source": [
        "# Batch Normalization: Backward Pass\n",
        "Now implement the backward pass for batch normalization in the function `batchnorm_backward`.\n",
        "\n",
        "To derive the backward pass you should write out the computation graph for batch normalization and backprop through each of the intermediate nodes. Some intermediates may have multiple outgoing branches; make sure to sum gradients across these branches in the backward pass.\n",
        "\n",
        "Once you have finished, run the following to numerically check your backward pass."
      ]
    },
    {
      "cell_type": "code",
      "execution_count": 13,
      "metadata": {
        "colab": {
          "base_uri": "https://localhost:8080/"
        },
        "id": "wHybeyfMmK1p",
        "outputId": "24993396-971c-4058-81c6-47611ffedd1d"
      },
      "outputs": [
        {
          "output_type": "stream",
          "name": "stdout",
          "text": [
            "dx error:  1.6674604875341426e-09\n",
            "dgamma error:  7.417225040694815e-13\n",
            "dbeta error:  2.379446949959628e-12\n"
          ]
        }
      ],
      "source": [
        "# Gradient check batchnorm backward pass.\n",
        "np.random.seed(231)\n",
        "N, D = 4, 5\n",
        "x = 5 * np.random.randn(N, D) + 12\n",
        "gamma = np.random.randn(D)\n",
        "beta = np.random.randn(D)\n",
        "dout = np.random.randn(N, D)\n",
        "\n",
        "bn_param = {'mode': 'train'}\n",
        "fx = lambda x: batchnorm_forward(x, gamma, beta, bn_param)[0]\n",
        "fg = lambda a: batchnorm_forward(x, a, beta, bn_param)[0]\n",
        "fb = lambda b: batchnorm_forward(x, gamma, b, bn_param)[0]\n",
        "\n",
        "dx_num = eval_numerical_gradient_array(fx, x, dout)\n",
        "da_num = eval_numerical_gradient_array(fg, gamma.copy(), dout)\n",
        "db_num = eval_numerical_gradient_array(fb, beta.copy(), dout)\n",
        "\n",
        "_, cache = batchnorm_forward(x, gamma, beta, bn_param)\n",
        "dx, dgamma, dbeta = batchnorm_backward(dout, cache)\n",
        "\n",
        "# You should expect to see relative errors between 1e-13 and 1e-8.\n",
        "print('dx error: ', rel_error(dx_num, dx))\n",
        "print('dgamma error: ', rel_error(da_num, dgamma))\n",
        "print('dbeta error: ', rel_error(db_num, dbeta))"
      ]
    },
    {
      "cell_type": "markdown",
      "metadata": {
        "id": "xYj7NW-TmK1p"
      },
      "source": [
        "# Batch Normalization: Alternative Backward Pass\n",
        "In class we talked about two different implementations for the sigmoid backward pass. One strategy is to write out a computation graph composed of simple operations and backprop through all intermediate values. Another strategy is to work out the derivatives on paper. For example, you can derive a very simple formula for the sigmoid function's backward pass by simplifying gradients on paper.\n",
        "\n",
        "Surprisingly, it turns out that you can do a similar simplification for the batch normalization backward pass too!  \n",
        "\n",
        "In the forward pass, given a set of inputs $X=\\begin{bmatrix}x_1\\\\x_2\\\\...\\\\x_N\\end{bmatrix}$, \n",
        "\n",
        "we first calculate the mean $\\mu$ and variance $v$.\n",
        "With $\\mu$ and $v$ calculated, we can calculate the standard deviation $\\sigma$  and normalized data $Y$.\n",
        "The equations and graph illustration below describe the computation ($y_i$ is the i-th element of the vector $Y$).\n",
        "\n",
        "\\begin{align}\n",
        "& \\mu=\\frac{1}{N}\\sum_{k=1}^N x_k  &  v=\\frac{1}{N}\\sum_{k=1}^N (x_k-\\mu)^2 \\\\\n",
        "& \\sigma=\\sqrt{v+\\epsilon}         &  y_i=\\frac{x_i-\\mu}{\\sigma}\n",
        "\\end{align}"
      ]
    },
    {
      "cell_type": "markdown",
      "metadata": {
        "id": "K0GGDSEimK1q"
      },
      "source": [
        "<img src=\"https://raw.githubusercontent.com/cs231n/cs231n.github.io/master/assets/a2/batchnorm_graph.png\">"
      ]
    },
    {
      "cell_type": "markdown",
      "metadata": {
        "tags": [
          "pdf-ignore"
        ],
        "id": "oI95PCgtmK1r"
      },
      "source": [
        "The meat of our problem during backpropagation is to compute $\\frac{\\partial L}{\\partial X}$, given the upstream gradient we receive, $\\frac{\\partial L}{\\partial Y}.$ To do this, recall the chain rule in calculus gives us $\\frac{\\partial L}{\\partial X} = \\frac{\\partial L}{\\partial Y} \\cdot \\frac{\\partial Y}{\\partial X}$.\n",
        "\n",
        "The unknown/hard part is $\\frac{\\partial Y}{\\partial X}$. We can find this by first deriving step-by-step our local gradients at \n",
        "$\\frac{\\partial v}{\\partial X}$, $\\frac{\\partial \\mu}{\\partial X}$,\n",
        "$\\frac{\\partial \\sigma}{\\partial v}$, \n",
        "$\\frac{\\partial Y}{\\partial \\sigma}$, and $\\frac{\\partial Y}{\\partial \\mu}$,\n",
        "and then use the chain rule to compose these gradients (which appear in the form of vectors!) appropriately to compute $\\frac{\\partial Y}{\\partial X}$.\n",
        "\n",
        "If it's challenging to directly reason about the gradients over $X$ and $Y$ which require matrix multiplication, try reasoning about the gradients in terms of individual elements $x_i$ and $y_i$ first: in that case, you will need to come up with the derivations for $\\frac{\\partial L}{\\partial x_i}$, by relying on the Chain Rule to first calculate the intermediate $\\frac{\\partial \\mu}{\\partial x_i}, \\frac{\\partial v}{\\partial x_i}, \\frac{\\partial \\sigma}{\\partial x_i},$ then assemble these pieces to calculate $\\frac{\\partial y_i}{\\partial x_i}$. \n",
        "\n",
        "You should make sure each of the intermediary gradient derivations are all as simplified as possible, for ease of implementation. \n",
        "\n",
        "After doing so, implement the simplified batch normalization backward pass in the function `batchnorm_backward_alt` and compare the two implementations by running the following. Your two implementations should compute nearly identical results, but the alternative implementation should be a bit faster."
      ]
    },
    {
      "cell_type": "code",
      "execution_count": 15,
      "metadata": {
        "colab": {
          "base_uri": "https://localhost:8080/"
        },
        "id": "EbHEdhAmmK1s",
        "outputId": "c90188c6-662a-4ae7-b6ac-b7da1859e978"
      },
      "outputs": [
        {
          "output_type": "stream",
          "name": "stdout",
          "text": [
            "dx difference:  9.890497291190823e-13\n",
            "dgamma difference:  0.0\n",
            "dbeta difference:  0.0\n",
            "speedup: 2.48x\n"
          ]
        }
      ],
      "source": [
        "np.random.seed(231)\n",
        "N, D = 100, 500\n",
        "x = 5 * np.random.randn(N, D) + 12\n",
        "gamma = np.random.randn(D)\n",
        "beta = np.random.randn(D)\n",
        "dout = np.random.randn(N, D)\n",
        "\n",
        "bn_param = {'mode': 'train'}\n",
        "out, cache = batchnorm_forward(x, gamma, beta, bn_param)\n",
        "\n",
        "t1 = time.time()\n",
        "dx1, dgamma1, dbeta1 = batchnorm_backward(dout, cache)\n",
        "t2 = time.time()\n",
        "dx2, dgamma2, dbeta2 = batchnorm_backward_alt(dout, cache)\n",
        "t3 = time.time()\n",
        "\n",
        "print('dx difference: ', rel_error(dx1, dx2))\n",
        "print('dgamma difference: ', rel_error(dgamma1, dgamma2))\n",
        "print('dbeta difference: ', rel_error(dbeta1, dbeta2))\n",
        "print('speedup: %.2fx' % ((t2 - t1) / (t3 - t2)))"
      ]
    },
    {
      "cell_type": "markdown",
      "metadata": {
        "id": "CJAus9QqmK1t"
      },
      "source": [
        "# Fully Connected Networks with Batch Normalization\n",
        "Now that you have a working implementation for batch normalization, go back to your `FullyConnectedNet` in the file `cs231n/classifiers/fc_net.py`. Modify your implementation to add batch normalization.\n",
        "\n",
        "Concretely, when the `normalization` flag is set to `\"batchnorm\"` in the constructor, you should insert a batch normalization layer before each ReLU nonlinearity. The outputs from the last layer of the network should not be normalized. Once you are done, run the following to gradient-check your implementation.\n",
        "\n",
        "**Hint:** You might find it useful to define an additional helper layer similar to those in the file `cs231n/layer_utils.py`."
      ]
    },
    {
      "cell_type": "code",
      "execution_count": 30,
      "metadata": {
        "colab": {
          "base_uri": "https://localhost:8080/"
        },
        "id": "SEMLKQTAmK1t",
        "outputId": "3efd1ee5-ee3b-4d97-dc92-a8ec6856e4ee"
      },
      "outputs": [
        {
          "output_type": "stream",
          "name": "stdout",
          "text": [
            "Running check with reg =  0\n",
            "Initial loss:  2.2611955101340957\n",
            "W1 relative error: 1.10e-04\n",
            "W2 relative error: 5.76e-06\n",
            "W3 relative error: 3.25e-10\n",
            "b1 relative error: 3.11e-07\n",
            "b2 relative error: 2.72e-07\n",
            "b3 relative error: 1.01e-10\n",
            "beta1 relative error: 6.94e-09\n",
            "beta2 relative error: 2.40e-09\n",
            "gamma1 relative error: 7.57e-09\n",
            "gamma2 relative error: 3.35e-09\n",
            "\n",
            "Running check with reg =  3.14\n",
            "Initial loss:  6.996533220108303\n",
            "W1 relative error: 1.98e-06\n",
            "W2 relative error: 2.28e-06\n",
            "W3 relative error: 1.11e-08\n",
            "b1 relative error: 1.38e-08\n",
            "b2 relative error: 7.99e-07\n",
            "b3 relative error: 1.42e-10\n",
            "beta1 relative error: 6.65e-09\n",
            "beta2 relative error: 3.39e-09\n",
            "gamma1 relative error: 5.94e-09\n",
            "gamma2 relative error: 5.28e-09\n"
          ]
        }
      ],
      "source": [
        "np.random.seed(231)\n",
        "N, D, H1, H2, C = 2, 15, 20, 30, 10\n",
        "X = np.random.randn(N, D)\n",
        "y = np.random.randint(C, size=(N,))\n",
        "\n",
        "# You should expect losses between 1e-4~1e-10 for W, \n",
        "# losses between 1e-08~1e-10 for b,\n",
        "# and losses between 1e-08~1e-09 for beta and gammas.\n",
        "for reg in [0, 3.14]:\n",
        "  print('Running check with reg = ', reg)\n",
        "  model = FullyConnectedNet([H1, H2], input_dim=D, num_classes=C,\n",
        "                            reg=reg, weight_scale=5e-2, dtype=np.float64,\n",
        "                            normalization='batchnorm')\n",
        "\n",
        "  loss, grads = model.loss(X, y)\n",
        "  print('Initial loss: ', loss)\n",
        "\n",
        "  for name in sorted(grads):\n",
        "    f = lambda _: model.loss(X, y)[0]\n",
        "    grad_num = eval_numerical_gradient(f, model.params[name], verbose=False, h=1e-5)\n",
        "    print('%s relative error: %.2e' % (name, rel_error(grad_num, grads[name])))\n",
        "  if reg == 0: print()"
      ]
    },
    {
      "cell_type": "markdown",
      "metadata": {
        "id": "lXDrKIoVmK1t"
      },
      "source": [
        "# Batch Normalization for Deep Networks\n",
        "Run the following to train a six-layer network on a subset of 1000 training examples both with and without batch normalization."
      ]
    },
    {
      "cell_type": "code",
      "execution_count": 33,
      "metadata": {
        "colab": {
          "base_uri": "https://localhost:8080/"
        },
        "id": "Z3r97_acmK1u",
        "outputId": "13147961-3462-47e3-94d7-e04ee681a8d6"
      },
      "outputs": [
        {
          "output_type": "stream",
          "name": "stdout",
          "text": [
            "Solver with batch norm:\n",
            "(Iteration 1 / 200) loss: 2.283911\n",
            "(Epoch 0 / 10) train acc: 0.121000; val_acc: 0.130000\n",
            "(Epoch 1 / 10) train acc: 0.249000; val_acc: 0.221000\n",
            "(Iteration 21 / 200) loss: 2.052474\n",
            "(Epoch 2 / 10) train acc: 0.344000; val_acc: 0.268000\n",
            "(Iteration 41 / 200) loss: 1.727148\n",
            "(Epoch 3 / 10) train acc: 0.403000; val_acc: 0.277000\n",
            "(Iteration 61 / 200) loss: 1.559967\n",
            "(Epoch 4 / 10) train acc: 0.470000; val_acc: 0.297000\n",
            "(Iteration 81 / 200) loss: 1.371887\n",
            "(Epoch 5 / 10) train acc: 0.522000; val_acc: 0.296000\n",
            "(Iteration 101 / 200) loss: 1.741498\n",
            "(Epoch 6 / 10) train acc: 0.546000; val_acc: 0.301000\n",
            "(Iteration 121 / 200) loss: 1.430474\n",
            "(Epoch 7 / 10) train acc: 0.589000; val_acc: 0.319000\n",
            "(Iteration 141 / 200) loss: 1.483275\n",
            "(Epoch 8 / 10) train acc: 0.575000; val_acc: 0.281000\n",
            "(Iteration 161 / 200) loss: 1.253456\n",
            "(Epoch 9 / 10) train acc: 0.627000; val_acc: 0.308000\n",
            "(Iteration 181 / 200) loss: 1.189213\n",
            "(Epoch 10 / 10) train acc: 0.647000; val_acc: 0.276000\n",
            "\n",
            "Solver without batch norm:\n",
            "(Iteration 1 / 200) loss: 2.302586\n",
            "(Epoch 0 / 10) train acc: 0.132000; val_acc: 0.125000\n",
            "(Epoch 1 / 10) train acc: 0.182000; val_acc: 0.174000\n",
            "(Iteration 21 / 200) loss: 2.160158\n",
            "(Epoch 2 / 10) train acc: 0.259000; val_acc: 0.229000\n",
            "(Iteration 41 / 200) loss: 2.114211\n",
            "(Epoch 3 / 10) train acc: 0.280000; val_acc: 0.242000\n",
            "(Iteration 61 / 200) loss: 1.785834\n",
            "(Epoch 4 / 10) train acc: 0.283000; val_acc: 0.243000\n",
            "(Iteration 81 / 200) loss: 1.802308\n",
            "(Epoch 5 / 10) train acc: 0.298000; val_acc: 0.242000\n",
            "(Iteration 101 / 200) loss: 1.514012\n",
            "(Epoch 6 / 10) train acc: 0.288000; val_acc: 0.222000\n",
            "(Iteration 121 / 200) loss: 1.726458\n",
            "(Epoch 7 / 10) train acc: 0.351000; val_acc: 0.240000\n",
            "(Iteration 141 / 200) loss: 1.680810\n",
            "(Epoch 8 / 10) train acc: 0.340000; val_acc: 0.234000\n",
            "(Iteration 161 / 200) loss: 1.519239\n",
            "(Epoch 9 / 10) train acc: 0.357000; val_acc: 0.246000\n",
            "(Iteration 181 / 200) loss: 1.635694\n",
            "(Epoch 10 / 10) train acc: 0.375000; val_acc: 0.229000\n"
          ]
        }
      ],
      "source": [
        "np.random.seed(231)\n",
        "\n",
        "# Try training a very deep net with batchnorm.\n",
        "hidden_dims = [100, 100, 100, 100, 100, 100, 100] # Original: [100, 100, 100, 100, 100]\n",
        "\n",
        "num_train = 1000\n",
        "small_data = {\n",
        "  'X_train': data['X_train'][:num_train],\n",
        "  'y_train': data['y_train'][:num_train],\n",
        "  'X_val': data['X_val'],\n",
        "  'y_val': data['y_val'],\n",
        "}\n",
        "\n",
        "weight_scale = 2e-2\n",
        "bn_model = FullyConnectedNet(hidden_dims, weight_scale=weight_scale, normalization='batchnorm')\n",
        "model = FullyConnectedNet(hidden_dims, weight_scale=weight_scale, normalization=None)\n",
        "\n",
        "print('Solver with batch norm:')\n",
        "bn_solver = Solver(bn_model, small_data,\n",
        "                num_epochs=10, batch_size=50,\n",
        "                update_rule='adam',\n",
        "                optim_config={\n",
        "                  'learning_rate': 1e-3,\n",
        "                },\n",
        "                verbose=True,print_every=20)\n",
        "bn_solver.train()\n",
        "\n",
        "print('\\nSolver without batch norm:')\n",
        "solver = Solver(model, small_data,\n",
        "                num_epochs=10, batch_size=50,\n",
        "                update_rule='adam',\n",
        "                optim_config={\n",
        "                  'learning_rate': 1e-3,\n",
        "                },\n",
        "                verbose=True, print_every=20)\n",
        "solver.train()"
      ]
    },
    {
      "cell_type": "markdown",
      "metadata": {
        "id": "BsbcD5s7mK1u"
      },
      "source": [
        "Run the following to visualize the results from two networks trained above. You should find that using batch normalization helps the network to converge much faster."
      ]
    },
    {
      "cell_type": "code",
      "execution_count": 34,
      "metadata": {
        "tags": [
          "pdf-ignore-input"
        ],
        "colab": {
          "base_uri": "https://localhost:8080/",
          "height": 893
        },
        "id": "BFWZO6z8mK1v",
        "outputId": "c53f2868-e006-4e97-ef50-a7e446e16efb"
      },
      "outputs": [
        {
          "output_type": "display_data",
          "data": {
            "image/png": "[encoded data removed]",
            "text/plain": [
              "<Figure size 1080x1080 with 3 Axes>"
            ]
          },
          "metadata": {
            "needs_background": "light"
          }
        }
      ],
      "source": [
        "def plot_training_history(title, label, baseline, bn_solvers, plot_fn, bl_marker='.', bn_marker='.', labels=None):\n",
        "    \"\"\"utility function for plotting training history\"\"\"\n",
        "    plt.title(title)\n",
        "    plt.xlabel(label)\n",
        "    bn_plots = [plot_fn(bn_solver) for bn_solver in bn_solvers]\n",
        "    bl_plot = plot_fn(baseline)\n",
        "    num_bn = len(bn_plots)\n",
        "    for i in range(num_bn):\n",
        "        label='with_norm'\n",
        "        if labels is not None:\n",
        "            label += str(labels[i])\n",
        "        plt.plot(bn_plots[i], bn_marker, label=label)\n",
        "    label='baseline'\n",
        "    if labels is not None:\n",
        "        label += str(labels[0])\n",
        "    plt.plot(bl_plot, bl_marker, label=label)\n",
        "    plt.legend(loc='lower center', ncol=num_bn+1) \n",
        "\n",
        "    \n",
        "plt.subplot(3, 1, 1)\n",
        "plot_training_history('Training loss','Iteration', solver, [bn_solver], \\\n",
        "                      lambda x: x.loss_history, bl_marker='o', bn_marker='o')\n",
        "plt.subplot(3, 1, 2)\n",
        "plot_training_history('Training accuracy','Epoch', solver, [bn_solver], \\\n",
        "                      lambda x: x.train_acc_history, bl_marker='-o', bn_marker='-o')\n",
        "plt.subplot(3, 1, 3)\n",
        "plot_training_history('Validation accuracy','Epoch', solver, [bn_solver], \\\n",
        "                      lambda x: x.val_acc_history, bl_marker='-o', bn_marker='-o')\n",
        "\n",
        "plt.gcf().set_size_inches(15, 15)\n",
        "plt.show()"
      ]
    },
    {
      "cell_type": "markdown",
      "metadata": {
        "id": "aeixUBM5mK1w"
      },
      "source": [
        "# Batch Normalization and Initialization\n",
        "We will now run a small experiment to study the interaction of batch normalization and weight initialization.\n",
        "\n",
        "The first cell will train eight-layer networks both with and without batch normalization using different scales for weight initialization. The second layer will plot training accuracy, validation set accuracy, and training loss as a function of the weight initialization scale."
      ]
    },
    {
      "cell_type": "code",
      "execution_count": null,
      "metadata": {
        "tags": [
          "pdf-ignore-input"
        ],
        "id": "iz5ATIFBmK1w"
      },
      "outputs": [],
      "source": [
        "np.random.seed(231)\n",
        "\n",
        "# Try training a very deep net with batchnorm.\n",
        "hidden_dims = [50, 50, 50, 50, 50, 50, 50]\n",
        "num_train = 1000\n",
        "small_data = {\n",
        "  'X_train': data['X_train'][:num_train],\n",
        "  'y_train': data['y_train'][:num_train],\n",
        "  'X_val': data['X_val'],\n",
        "  'y_val': data['y_val'],\n",
        "}\n",
        "\n",
        "bn_solvers_ws = {}\n",
        "solvers_ws = {}\n",
        "weight_scales = np.logspace(-4, 0, num=20)\n",
        "for i, weight_scale in enumerate(weight_scales):\n",
        "    print('Running weight scale %d / %d' % (i + 1, len(weight_scales)))\n",
        "    bn_model = FullyConnectedNet(hidden_dims, weight_scale=weight_scale, normalization='batchnorm')\n",
        "    model = FullyConnectedNet(hidden_dims, weight_scale=weight_scale, normalization=None)\n",
        "\n",
        "    bn_solver = Solver(bn_model, small_data,\n",
        "                  num_epochs=10, batch_size=50,\n",
        "                  update_rule='adam',\n",
        "                  optim_config={\n",
        "                    'learning_rate': 1e-3,\n",
        "                  },\n",
        "                  verbose=False, print_every=200)\n",
        "    bn_solver.train()\n",
        "    bn_solvers_ws[weight_scale] = bn_solver\n",
        "\n",
        "    solver = Solver(model, small_data,\n",
        "                  num_epochs=10, batch_size=50,\n",
        "                  update_rule='adam',\n",
        "                  optim_config={\n",
        "                    'learning_rate': 1e-3,\n",
        "                  },\n",
        "                  verbose=False, print_every=200)\n",
        "    solver.train()\n",
        "    solvers_ws[weight_scale] = solver"
      ]
    },
    {
      "cell_type": "code",
      "execution_count": null,
      "metadata": {
        "tags": [
          "pdf-ignore-input"
        ],
        "id": "iHJpe46PmK1x"
      },
      "outputs": [],
      "source": [
        "# Plot results of weight scale experiment.\n",
        "best_train_accs, bn_best_train_accs = [], []\n",
        "best_val_accs, bn_best_val_accs = [], []\n",
        "final_train_loss, bn_final_train_loss = [], []\n",
        "\n",
        "for ws in weight_scales:\n",
        "  best_train_accs.append(max(solvers_ws[ws].train_acc_history))\n",
        "  bn_best_train_accs.append(max(bn_solvers_ws[ws].train_acc_history))\n",
        "  \n",
        "  best_val_accs.append(max(solvers_ws[ws].val_acc_history))\n",
        "  bn_best_val_accs.append(max(bn_solvers_ws[ws].val_acc_history))\n",
        "  \n",
        "  final_train_loss.append(np.mean(solvers_ws[ws].loss_history[-100:]))\n",
        "  bn_final_train_loss.append(np.mean(bn_solvers_ws[ws].loss_history[-100:]))\n",
        "  \n",
        "plt.subplot(3, 1, 1)\n",
        "plt.title('Best val accuracy vs. weight initialization scale')\n",
        "plt.xlabel('Weight initialization scale')\n",
        "plt.ylabel('Best val accuracy')\n",
        "plt.semilogx(weight_scales, best_val_accs, '-o', label='baseline')\n",
        "plt.semilogx(weight_scales, bn_best_val_accs, '-o', label='batchnorm')\n",
        "plt.legend(ncol=2, loc='lower right')\n",
        "\n",
        "plt.subplot(3, 1, 2)\n",
        "plt.title('Best train accuracy vs. weight initialization scale')\n",
        "plt.xlabel('Weight initialization scale')\n",
        "plt.ylabel('Best training accuracy')\n",
        "plt.semilogx(weight_scales, best_train_accs, '-o', label='baseline')\n",
        "plt.semilogx(weight_scales, bn_best_train_accs, '-o', label='batchnorm')\n",
        "plt.legend()\n",
        "\n",
        "plt.subplot(3, 1, 3)\n",
        "plt.title('Final training loss vs. weight initialization scale')\n",
        "plt.xlabel('Weight initialization scale')\n",
        "plt.ylabel('Final training loss')\n",
        "plt.semilogx(weight_scales, final_train_loss, '-o', label='baseline')\n",
        "plt.semilogx(weight_scales, bn_final_train_loss, '-o', label='batchnorm')\n",
        "plt.legend()\n",
        "plt.gca().set_ylim(1.0, 3.5)\n",
        "\n",
        "plt.gcf().set_size_inches(15, 15)\n",
        "plt.show()"
      ]
    },
    {
      "cell_type": "markdown",
      "metadata": {
        "tags": [
          "pdf-inline"
        ],
        "id": "qh_Prwm_mK1x"
      },
      "source": [
        "## Inline Question 1:\n",
        "Describe the results of this experiment. How does the weight initialization scale affect models with/without batch normalization differently, and why?\n",
        "\n",
        "## Answer:\n",
        "[FILL THIS IN]\n"
      ]
    },
    {
      "cell_type": "markdown",
      "metadata": {
        "id": "Pllkqov9mK1y"
      },
      "source": [
        "# Batch Normalization and Batch Size\n",
        "We will now run a small experiment to study the interaction of batch normalization and batch size.\n",
        "\n",
        "The first cell will train 6-layer networks both with and without batch normalization using different batch sizes. The second layer will plot training accuracy and validation set accuracy over time."
      ]
    },
    {
      "cell_type": "code",
      "execution_count": null,
      "metadata": {
        "tags": [
          "pdf-ignore-input"
        ],
        "id": "im6K4TQHmK1y"
      },
      "outputs": [],
      "source": [
        "def run_batchsize_experiments(normalization_mode):\n",
        "    np.random.seed(231)\n",
        "    \n",
        "    # Try training a very deep net with batchnorm.\n",
        "    hidden_dims = [100, 100, 100, 100, 100]\n",
        "    num_train = 1000\n",
        "    small_data = {\n",
        "      'X_train': data['X_train'][:num_train],\n",
        "      'y_train': data['y_train'][:num_train],\n",
        "      'X_val': data['X_val'],\n",
        "      'y_val': data['y_val'],\n",
        "    }\n",
        "    n_epochs=10\n",
        "    weight_scale = 2e-2\n",
        "    batch_sizes = [5,10,50]\n",
        "    lr = 10**(-3.5)\n",
        "    solver_bsize = batch_sizes[0]\n",
        "\n",
        "    print('No normalization: batch size = ',solver_bsize)\n",
        "    model = FullyConnectedNet(hidden_dims, weight_scale=weight_scale, normalization=None)\n",
        "    solver = Solver(model, small_data,\n",
        "                    num_epochs=n_epochs, batch_size=solver_bsize,\n",
        "                    update_rule='adam',\n",
        "                    optim_config={\n",
        "                      'learning_rate': lr,\n",
        "                    },\n",
        "                    verbose=False)\n",
        "    solver.train()\n",
        "    \n",
        "    bn_solvers = []\n",
        "    for i in range(len(batch_sizes)):\n",
        "        b_size=batch_sizes[i]\n",
        "        print('Normalization: batch size = ',b_size)\n",
        "        bn_model = FullyConnectedNet(hidden_dims, weight_scale=weight_scale, normalization=normalization_mode)\n",
        "        bn_solver = Solver(bn_model, small_data,\n",
        "                        num_epochs=n_epochs, batch_size=b_size,\n",
        "                        update_rule='adam',\n",
        "                        optim_config={\n",
        "                          'learning_rate': lr,\n",
        "                        },\n",
        "                        verbose=False)\n",
        "        bn_solver.train()\n",
        "        bn_solvers.append(bn_solver)\n",
        "        \n",
        "    return bn_solvers, solver, batch_sizes\n",
        "\n",
        "batch_sizes = [5,10,50]\n",
        "bn_solvers_bsize, solver_bsize, batch_sizes = run_batchsize_experiments('batchnorm')"
      ]
    },
    {
      "cell_type": "code",
      "execution_count": null,
      "metadata": {
        "id": "pJW84TvCmK1z"
      },
      "outputs": [],
      "source": [
        "plt.subplot(2, 1, 1)\n",
        "plot_training_history('Training accuracy (Batch Normalization)','Epoch', solver_bsize, bn_solvers_bsize, \\\n",
        "                      lambda x: x.train_acc_history, bl_marker='-^', bn_marker='-o', labels=batch_sizes)\n",
        "plt.subplot(2, 1, 2)\n",
        "plot_training_history('Validation accuracy (Batch Normalization)','Epoch', solver_bsize, bn_solvers_bsize, \\\n",
        "                      lambda x: x.val_acc_history, bl_marker='-^', bn_marker='-o', labels=batch_sizes)\n",
        "\n",
        "plt.gcf().set_size_inches(15, 10)\n",
        "plt.show()"
      ]
    },
    {
      "cell_type": "markdown",
      "metadata": {
        "tags": [
          "pdf-inline"
        ],
        "id": "w7K6Vd6DmK1z"
      },
      "source": [
        "## Inline Question 2:\n",
        "Describe the results of this experiment. What does this imply about the relationship between batch normalization and batch size? Why is this relationship observed?\n",
        "\n",
        "## Answer:\n",
        "[FILL THIS IN]\n"
      ]
    },
    {
      "cell_type": "markdown",
      "metadata": {
        "id": "kZOzZHipmK1z"
      },
      "source": [
        "# Layer Normalization\n",
        "Batch normalization has proved to be effective in making networks easier to train, but the dependency on batch size makes it less useful in complex networks which have a cap on the input batch size due to hardware limitations. \n",
        "\n",
        "Several alternatives to batch normalization have been proposed to mitigate this problem; one such technique is Layer Normalization [2]. Instead of normalizing over the batch, we normalize over the features. In other words, when using Layer Normalization, each feature vector corresponding to a single datapoint is normalized based on the sum of all terms within that feature vector.\n",
        "\n",
        "[2] [Ba, Jimmy Lei, Jamie Ryan Kiros, and Geoffrey E. Hinton. \"Layer Normalization.\" stat 1050 (2016): 21.](https://arxiv.org/pdf/1607.06450.pdf)"
      ]
    },
    {
      "cell_type": "markdown",
      "metadata": {
        "tags": [
          "pdf-inline"
        ],
        "id": "YKfqClVWmK10"
      },
      "source": [
        "## Inline Question 3:\n",
        "Which of these data preprocessing steps is analogous to batch normalization, and which is analogous to layer normalization?\n",
        "\n",
        "1. Scaling each image in the dataset, so that the RGB channels for each row of pixels within an image sums up to 1.\n",
        "2. Scaling each image in the dataset, so that the RGB channels for all pixels within an image sums up to 1.  \n",
        "3. Subtracting the mean image of the dataset from each image in the dataset.\n",
        "4. Setting all RGB values to either 0 or 1 depending on a given threshold.\n",
        "\n",
        "## Answer:\n",
        "[FILL THIS IN]\n"
      ]
    },
    {
      "cell_type": "markdown",
      "metadata": {
        "id": "RqBU-x1bmK10"
      },
      "source": [
        "# Layer Normalization: Implementation\n",
        "\n",
        "Now you'll implement layer normalization. This step should be relatively straightforward, as conceptually the implementation is almost identical to that of batch normalization. One significant difference though is that for layer normalization, we do not keep track of the moving moments, and the testing phase is identical to the training phase, where the mean and variance are directly calculated per datapoint.\n",
        "\n",
        "Here's what you need to do:\n",
        "\n",
        "* In `cs231n/layers.py`, implement the forward pass for layer normalization in the function `layernorm_forward`. \n",
        "\n",
        "Run the cell below to check your results.\n",
        "* In `cs231n/layers.py`, implement the backward pass for layer normalization in the function `layernorm_backward`. \n",
        "\n",
        "Run the second cell below to check your results.\n",
        "* Modify `cs231n/classifiers/fc_net.py` to add layer normalization to the `FullyConnectedNet`. When the `normalization` flag is set to `\"layernorm\"` in the constructor, you should insert a layer normalization layer before each ReLU nonlinearity. \n",
        "\n",
        "Run the third cell below to run the batch size experiment on layer normalization."
      ]
    },
    {
      "cell_type": "code",
      "execution_count": null,
      "metadata": {
        "id": "ubK0Ps9ymK10"
      },
      "outputs": [],
      "source": [
        "# Check the training-time forward pass by checking means and variances\n",
        "# of features both before and after layer normalization.\n",
        "\n",
        "# Simulate the forward pass for a two-layer network.\n",
        "np.random.seed(231)\n",
        "N, D1, D2, D3 =4, 50, 60, 3\n",
        "X = np.random.randn(N, D1)\n",
        "W1 = np.random.randn(D1, D2)\n",
        "W2 = np.random.randn(D2, D3)\n",
        "a = np.maximum(0, X.dot(W1)).dot(W2)\n",
        "\n",
        "print('Before layer normalization:')\n",
        "print_mean_std(a,axis=1)\n",
        "\n",
        "gamma = np.ones(D3)\n",
        "beta = np.zeros(D3)\n",
        "\n",
        "# Means should be close to zero and stds close to one.\n",
        "print('After layer normalization (gamma=1, beta=0)')\n",
        "a_norm, _ = layernorm_forward(a, gamma, beta, {'mode': 'train'})\n",
        "print_mean_std(a_norm,axis=1)\n",
        "\n",
        "gamma = np.asarray([3.0,3.0,3.0])\n",
        "beta = np.asarray([5.0,5.0,5.0])\n",
        "\n",
        "# Now means should be close to beta and stds close to gamma.\n",
        "print('After layer normalization (gamma=', gamma, ', beta=', beta, ')')\n",
        "a_norm, _ = layernorm_forward(a, gamma, beta, {'mode': 'train'})\n",
        "print_mean_std(a_norm,axis=1)"
      ]
    },
    {
      "cell_type": "code",
      "execution_count": null,
      "metadata": {
        "id": "NLRkEWERmK10"
      },
      "outputs": [],
      "source": [
        "# Gradient check batchnorm backward pass.\n",
        "np.random.seed(231)\n",
        "N, D = 4, 5\n",
        "x = 5 * np.random.randn(N, D) + 12\n",
        "gamma = np.random.randn(D)\n",
        "beta = np.random.randn(D)\n",
        "dout = np.random.randn(N, D)\n",
        "\n",
        "ln_param = {}\n",
        "fx = lambda x: layernorm_forward(x, gamma, beta, ln_param)[0]\n",
        "fg = lambda a: layernorm_forward(x, a, beta, ln_param)[0]\n",
        "fb = lambda b: layernorm_forward(x, gamma, b, ln_param)[0]\n",
        "\n",
        "dx_num = eval_numerical_gradient_array(fx, x, dout)\n",
        "da_num = eval_numerical_gradient_array(fg, gamma.copy(), dout)\n",
        "db_num = eval_numerical_gradient_array(fb, beta.copy(), dout)\n",
        "\n",
        "_, cache = layernorm_forward(x, gamma, beta, ln_param)\n",
        "dx, dgamma, dbeta = layernorm_backward(dout, cache)\n",
        "\n",
        "# You should expect to see relative errors between 1e-12 and 1e-8.\n",
        "print('dx error: ', rel_error(dx_num, dx))\n",
        "print('dgamma error: ', rel_error(da_num, dgamma))\n",
        "print('dbeta error: ', rel_error(db_num, dbeta))"
      ]
    },
    {
      "cell_type": "markdown",
      "metadata": {
        "id": "PYv0odVNmK11"
      },
      "source": [
        "# Layer Normalization and Batch Size\n",
        "\n",
        "We will now run the previous batch size experiment with layer normalization instead of batch normalization. Compared to the previous experiment, you should see a markedly smaller influence of batch size on the training history!"
      ]
    },
    {
      "cell_type": "code",
      "execution_count": null,
      "metadata": {
        "id": "eLOiIZLlmK11"
      },
      "outputs": [],
      "source": [
        "ln_solvers_bsize, solver_bsize, batch_sizes = run_batchsize_experiments('layernorm')\n",
        "\n",
        "plt.subplot(2, 1, 1)\n",
        "plot_training_history('Training accuracy (Layer Normalization)','Epoch', solver_bsize, ln_solvers_bsize, \\\n",
        "                      lambda x: x.train_acc_history, bl_marker='-^', bn_marker='-o', labels=batch_sizes)\n",
        "plt.subplot(2, 1, 2)\n",
        "plot_training_history('Validation accuracy (Layer Normalization)','Epoch', solver_bsize, ln_solvers_bsize, \\\n",
        "                      lambda x: x.val_acc_history, bl_marker='-^', bn_marker='-o', labels=batch_sizes)\n",
        "\n",
        "plt.gcf().set_size_inches(15, 10)\n",
        "plt.show()"
      ]
    },
    {
      "cell_type": "markdown",
      "metadata": {
        "tags": [
          "pdf-inline"
        ],
        "id": "s9oHFxxSmK11"
      },
      "source": [
        "## Inline Question 4:\n",
        "When is layer normalization likely to not work well, and why?\n",
        "\n",
        "1. Using it in a very deep network\n",
        "2. Having a very small dimension of features\n",
        "3. Having a high regularization term\n",
        "\n",
        "\n",
        "## Answer:\n",
        "[FILL THIS IN]\n"
      ]
    }
  ],
  "metadata": {
    "colab": {
      "name": "BatchNormalization.ipynb",
      "provenance": [],
      "include_colab_link": true
    },
    "language_info": {
      "name": "python"
    },
    "kernelspec": {
      "name": "python3",
      "display_name": "Python 3"
    }
  },
  "nbformat": 4,
  "nbformat_minor": 0
}